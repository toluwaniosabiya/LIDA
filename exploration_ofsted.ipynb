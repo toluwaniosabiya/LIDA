{
 "cells": [
  {
   "cell_type": "code",
   "execution_count": 1,
   "metadata": {},
   "outputs": [],
   "source": [
    "import pandas as pd"
   ]
  },
  {
   "cell_type": "code",
   "execution_count": 4,
   "metadata": {},
   "outputs": [],
   "source": [
    "la_inspection = pd.read_excel(\n",
    "    \"data/Childrens_social_care_in_England_2022_underlying_data.xlsx\",\n",
    "    \"Provider_level_at_31_Mar_2022\",\n",
    "    header=4,\n",
    ")"
   ]
  },
  {
   "cell_type": "code",
   "execution_count": 5,
   "metadata": {},
   "outputs": [
    {
     "name": "stdout",
     "output_type": "stream",
     "text": [
      "<class 'pandas.core.frame.DataFrame'>\n",
      "RangeIndex: 3576 entries, 0 to 3575\n",
      "Data columns (total 29 columns):\n",
      " #   Column                                                                                Non-Null Count  Dtype         \n",
      "---  ------                                                                                --------------  -----         \n",
      " 0   Web link                                                                              3576 non-null   object        \n",
      " 1   URN                                                                                   3576 non-null   object        \n",
      " 2   Linked Education URN                                                                  208 non-null    float64       \n",
      " 3   Provision type                                                                        3576 non-null   object        \n",
      " 4   Registration date                                                                     3576 non-null   datetime64[ns]\n",
      " 5   Registration status                                                                   3576 non-null   object        \n",
      " 6   Name                                                                                  3576 non-null   object        \n",
      " 7   Address 1                                                                             3576 non-null   object        \n",
      " 8   Address 2                                                                             3576 non-null   object        \n",
      " 9   Town                                                                                  3574 non-null   object        \n",
      " 10  County                                                                                3296 non-null   object        \n",
      " 11  Postcode                                                                              3576 non-null   object        \n",
      " 12  Ofsted region                                                                         3576 non-null   object        \n",
      " 13  Government Office Region                                                              3576 non-null   object        \n",
      " 14  Local authority                                                                       3576 non-null   object        \n",
      " 15  Parliamentary constituency                                                            3576 non-null   object        \n",
      " 16  Sector                                                                                3576 non-null   object        \n",
      " 17  Places                                                                                3160 non-null   float64       \n",
      " 18  Short-break-only children's home                                                      156 non-null    object        \n",
      " 19  Organisation which owns the provider                                                  3537 non-null   object        \n",
      " 20  Latest full inspection event type                                                     3309 non-null   object        \n",
      " 21  Latest full inspection date                                                           3309 non-null   datetime64[ns]\n",
      " 22  Latest full inspection publication date                                               3309 non-null   datetime64[ns]\n",
      " 23  Latest full inspection event number                                                   3309 non-null   float64       \n",
      " 24  Latest full inspection overall experiences and progress of children and young people  3309 non-null   object        \n",
      " 25  Latest full inspection outcomes in education and related learning activities          13 non-null     object        \n",
      " 26  Latest full inspectio health services                                                 13 non-null     object        \n",
      " 27  Latest full inspection how well children and young people are helped and protected    3304 non-null   object        \n",
      " 28  Latest full inspection the effectiveness of leaders and managers                      3304 non-null   object        \n",
      "dtypes: datetime64[ns](3), float64(3), object(23)\n",
      "memory usage: 810.3+ KB\n"
     ]
    }
   ],
   "source": [
    "la_inspection.info()"
   ]
  },
  {
   "cell_type": "code",
   "execution_count": 6,
   "metadata": {},
   "outputs": [
    {
     "data": {
      "text/plain": [
       "array(['Secure Training Centre',\n",
       "       'Residential Holiday Scheme for Disabled Children',\n",
       "       \"Children's home\", 'Independent Fostering Agency',\n",
       "       'Boarding School', 'Residential Special School',\n",
       "       'Adoption Support Agency', 'Residential Family Centre',\n",
       "       'Voluntary Adoption Agency',\n",
       "       \"Residential special school (registered as a children's home)\",\n",
       "       'Further Education College with Residential Accommodation',\n",
       "       \"Children's Home\", \"Secure children's home\"], dtype=object)"
      ]
     },
     "execution_count": 6,
     "metadata": {},
     "output_type": "execute_result"
    }
   ],
   "source": [
    "la_inspection[\"Provision type\"].unique()"
   ]
  },
  {
   "cell_type": "code",
   "execution_count": 7,
   "metadata": {},
   "outputs": [
    {
     "data": {
      "text/plain": [
       "Local authority\n",
       "Barking and Dagenham             40.0\n",
       "Barnet                           37.0\n",
       "Barnsley                         99.0\n",
       "Bath and North East Somerset     49.0\n",
       "Bedford                          60.0\n",
       "                                ...  \n",
       "Wirral                           72.0\n",
       "Wokingham                        36.0\n",
       "Wolverhampton                   189.0\n",
       "Worcestershire                  468.0\n",
       "York                            189.0\n",
       "Name: Places, Length: 151, dtype: float64"
      ]
     },
     "execution_count": 7,
     "metadata": {},
     "output_type": "execute_result"
    }
   ],
   "source": [
    "la_inspection.groupby(\"Local authority\")[\"Places\"].sum()"
   ]
  },
  {
   "cell_type": "code",
   "execution_count": 8,
   "metadata": {},
   "outputs": [
    {
     "data": {
      "text/plain": [
       "Local authority       Provision type                                              \n",
       "Barking and Dagenham  Children's home                                                  40.0\n",
       "                      Independent Fostering Agency                                      0.0\n",
       "Barnet                Boarding School                                                   9.0\n",
       "                      Children's home                                                  25.0\n",
       "                      Residential Family Centre                                         3.0\n",
       "                                                                                      ...  \n",
       "Worcestershire        Residential Special School                                      105.0\n",
       "                      Residential special school (registered as a children's home)     61.0\n",
       "                      Voluntary Adoption Agency                                         0.0\n",
       "York                  Children's home                                                  12.0\n",
       "                      Further Education College with Residential Accommodation        177.0\n",
       "Name: Places, Length: 550, dtype: float64"
      ]
     },
     "execution_count": 8,
     "metadata": {},
     "output_type": "execute_result"
    }
   ],
   "source": [
    "la_inspection.groupby([\"Local authority\", \"Provision type\"])[\"Places\"].sum()"
   ]
  },
  {
   "cell_type": "code",
   "execution_count": 11,
   "metadata": {},
   "outputs": [
    {
     "data": {
      "text/html": [
       "<div>\n",
       "<style scoped>\n",
       "    .dataframe tbody tr th:only-of-type {\n",
       "        vertical-align: middle;\n",
       "    }\n",
       "\n",
       "    .dataframe tbody tr th {\n",
       "        vertical-align: top;\n",
       "    }\n",
       "\n",
       "    .dataframe thead th {\n",
       "        text-align: right;\n",
       "    }\n",
       "</style>\n",
       "<table border=\"1\" class=\"dataframe\">\n",
       "  <thead>\n",
       "    <tr style=\"text-align: right;\">\n",
       "      <th></th>\n",
       "      <th>Web link</th>\n",
       "      <th>URN</th>\n",
       "      <th>Linked Education URN</th>\n",
       "      <th>Provision type</th>\n",
       "      <th>Registration date</th>\n",
       "      <th>Registration status</th>\n",
       "      <th>Name</th>\n",
       "      <th>Address 1</th>\n",
       "      <th>Address 2</th>\n",
       "      <th>Town</th>\n",
       "      <th>...</th>\n",
       "      <th>Organisation which owns the provider</th>\n",
       "      <th>Latest full inspection event type</th>\n",
       "      <th>Latest full inspection date</th>\n",
       "      <th>Latest full inspection publication date</th>\n",
       "      <th>Latest full inspection event number</th>\n",
       "      <th>Latest full inspection overall experiences and progress of children and young people</th>\n",
       "      <th>Latest full inspection outcomes in education and related learning activities</th>\n",
       "      <th>Latest full inspectio health services</th>\n",
       "      <th>Latest full inspection how well children and young people are helped and protected</th>\n",
       "      <th>Latest full inspection the effectiveness of leaders and managers</th>\n",
       "    </tr>\n",
       "  </thead>\n",
       "  <tbody>\n",
       "    <tr>\n",
       "      <th>714</th>\n",
       "      <td>Ofsted Social Care Provider Webpage</td>\n",
       "      <td>2511429</td>\n",
       "      <td>NaN</td>\n",
       "      <td>Independent Fostering Agency</td>\n",
       "      <td>2019-10-10</td>\n",
       "      <td>Active</td>\n",
       "      <td>Love For Fostering Ltd</td>\n",
       "      <td>Jhumat House</td>\n",
       "      <td>160 London Road</td>\n",
       "      <td>Barking</td>\n",
       "      <td>...</td>\n",
       "      <td>Love For Fostering Ltd</td>\n",
       "      <td>NaN</td>\n",
       "      <td>NaT</td>\n",
       "      <td>NaT</td>\n",
       "      <td>NaN</td>\n",
       "      <td>NaN</td>\n",
       "      <td>NaN</td>\n",
       "      <td>NaN</td>\n",
       "      <td>NaN</td>\n",
       "      <td>NaN</td>\n",
       "    </tr>\n",
       "  </tbody>\n",
       "</table>\n",
       "<p>1 rows × 29 columns</p>\n",
       "</div>"
      ],
      "text/plain": [
       "                                Web link      URN  Linked Education URN  \\\n",
       "714  Ofsted Social Care Provider Webpage  2511429                   NaN   \n",
       "\n",
       "                   Provision type Registration date Registration status  \\\n",
       "714  Independent Fostering Agency        2019-10-10              Active   \n",
       "\n",
       "                       Name     Address 1          Address 2     Town  ...  \\\n",
       "714  Love For Fostering Ltd  Jhumat House  160 London Road    Barking  ...   \n",
       "\n",
       "    Organisation which owns the provider Latest full inspection event type  \\\n",
       "714               Love For Fostering Ltd                               NaN   \n",
       "\n",
       "    Latest full inspection date Latest full inspection publication date  \\\n",
       "714                         NaT                                     NaT   \n",
       "\n",
       "    Latest full inspection event number  \\\n",
       "714                                 NaN   \n",
       "\n",
       "    Latest full inspection overall experiences and progress of children and young people  \\\n",
       "714                                                NaN                                     \n",
       "\n",
       "    Latest full inspection outcomes in education and related learning activities  \\\n",
       "714                                                NaN                             \n",
       "\n",
       "     Latest full inspectio health services  \\\n",
       "714                                    NaN   \n",
       "\n",
       "    Latest full inspection how well children and young people are helped and protected  \\\n",
       "714                                                NaN                                   \n",
       "\n",
       "    Latest full inspection the effectiveness of leaders and managers  \n",
       "714                                                NaN                \n",
       "\n",
       "[1 rows x 29 columns]"
      ]
     },
     "execution_count": 11,
     "metadata": {},
     "output_type": "execute_result"
    }
   ],
   "source": [
    "la_inspection[\n",
    "    (la_inspection[\"Local authority\"] == \"Barking and Dagenham\")\n",
    "    & (la_inspection[\"Provision type\"] == \"Independent Fostering Agency\")\n",
    "]"
   ]
  },
  {
   "cell_type": "code",
   "execution_count": 13,
   "metadata": {},
   "outputs": [
    {
     "data": {
      "text/plain": [
       "Registration status\n",
       "Active       3570\n",
       "Suspended       6\n",
       "Name: count, dtype: int64"
      ]
     },
     "execution_count": 13,
     "metadata": {},
     "output_type": "execute_result"
    }
   ],
   "source": [
    "la_inspection[\"Registration status\"].value_counts()"
   ]
  },
  {
   "cell_type": "code",
   "execution_count": 16,
   "metadata": {},
   "outputs": [
    {
     "data": {
      "text/html": [
       "<div>\n",
       "<style scoped>\n",
       "    .dataframe tbody tr th:only-of-type {\n",
       "        vertical-align: middle;\n",
       "    }\n",
       "\n",
       "    .dataframe tbody tr th {\n",
       "        vertical-align: top;\n",
       "    }\n",
       "\n",
       "    .dataframe thead th {\n",
       "        text-align: right;\n",
       "    }\n",
       "</style>\n",
       "<table border=\"1\" class=\"dataframe\">\n",
       "  <thead>\n",
       "    <tr style=\"text-align: right;\">\n",
       "      <th></th>\n",
       "      <th>Web link</th>\n",
       "      <th>Local authority name</th>\n",
       "      <th>Ofsted region</th>\n",
       "      <th>Inspection date</th>\n",
       "      <th>Overall effectiveness</th>\n",
       "      <th>Impact of leaders</th>\n",
       "      <th>Experiences and progress of children who need help and protection</th>\n",
       "      <th>Experiences and progress of children in care and care leavers</th>\n",
       "    </tr>\n",
       "  </thead>\n",
       "  <tbody>\n",
       "    <tr>\n",
       "      <th>0</th>\n",
       "      <td>Ofsted Local Authority Webpage</td>\n",
       "      <td>Barking and Dagenham</td>\n",
       "      <td>London</td>\n",
       "      <td>2019-02-18 00:00:00</td>\n",
       "      <td>Requires improvement to be good</td>\n",
       "      <td>Requires improvement to be good</td>\n",
       "      <td>Requires improvement to be good</td>\n",
       "      <td>Requires improvement to be good</td>\n",
       "    </tr>\n",
       "    <tr>\n",
       "      <th>1</th>\n",
       "      <td>Ofsted Local Authority Webpage</td>\n",
       "      <td>Barnet</td>\n",
       "      <td>London</td>\n",
       "      <td>2019-05-13 00:00:00</td>\n",
       "      <td>Good</td>\n",
       "      <td>Good</td>\n",
       "      <td>Good</td>\n",
       "      <td>Good</td>\n",
       "    </tr>\n",
       "    <tr>\n",
       "      <th>2</th>\n",
       "      <td>Ofsted Local Authority Webpage</td>\n",
       "      <td>Barnsley</td>\n",
       "      <td>Yorkshire and The Humber</td>\n",
       "      <td>2018-10-08 00:00:00</td>\n",
       "      <td>Good</td>\n",
       "      <td>Good</td>\n",
       "      <td>Good</td>\n",
       "      <td>Good</td>\n",
       "    </tr>\n",
       "    <tr>\n",
       "      <th>3</th>\n",
       "      <td>Ofsted Local Authority Webpage</td>\n",
       "      <td>Bath and North East Somerset</td>\n",
       "      <td>South West</td>\n",
       "      <td>2022-02-28 00:00:00</td>\n",
       "      <td>Good</td>\n",
       "      <td>Good</td>\n",
       "      <td>Good</td>\n",
       "      <td>Good</td>\n",
       "    </tr>\n",
       "    <tr>\n",
       "      <th>4</th>\n",
       "      <td>Ofsted Local Authority Webpage</td>\n",
       "      <td>Bedford</td>\n",
       "      <td>East of England</td>\n",
       "      <td>2021-11-15 00:00:00</td>\n",
       "      <td>Good</td>\n",
       "      <td>Good</td>\n",
       "      <td>Good</td>\n",
       "      <td>Good</td>\n",
       "    </tr>\n",
       "    <tr>\n",
       "      <th>...</th>\n",
       "      <td>...</td>\n",
       "      <td>...</td>\n",
       "      <td>...</td>\n",
       "      <td>...</td>\n",
       "      <td>...</td>\n",
       "      <td>...</td>\n",
       "      <td>...</td>\n",
       "      <td>...</td>\n",
       "    </tr>\n",
       "    <tr>\n",
       "      <th>147</th>\n",
       "      <td>Ofsted Local Authority Webpage</td>\n",
       "      <td>Wirral</td>\n",
       "      <td>North West</td>\n",
       "      <td>2019-06-17 00:00:00</td>\n",
       "      <td>Requires improvement to be good</td>\n",
       "      <td>Good</td>\n",
       "      <td>Requires improvement to be good</td>\n",
       "      <td>Requires improvement to be good</td>\n",
       "    </tr>\n",
       "    <tr>\n",
       "      <th>148</th>\n",
       "      <td>Ofsted Local Authority Webpage</td>\n",
       "      <td>Wokingham</td>\n",
       "      <td>South East</td>\n",
       "      <td>2019-06-03 00:00:00</td>\n",
       "      <td>Requires improvement to be good</td>\n",
       "      <td>Requires improvement to be good</td>\n",
       "      <td>Requires improvement to be good</td>\n",
       "      <td>Requires improvement to be good</td>\n",
       "    </tr>\n",
       "    <tr>\n",
       "      <th>149</th>\n",
       "      <td>Ofsted Local Authority Webpage</td>\n",
       "      <td>Wolverhampton</td>\n",
       "      <td>West Midlands</td>\n",
       "      <td>2017-01-16 00:00:00</td>\n",
       "      <td>Good</td>\n",
       "      <td>Good</td>\n",
       "      <td>Requires improvement to be good</td>\n",
       "      <td>Good</td>\n",
       "    </tr>\n",
       "    <tr>\n",
       "      <th>150</th>\n",
       "      <td>Ofsted Local Authority Webpage</td>\n",
       "      <td>Worcestershire</td>\n",
       "      <td>West Midlands</td>\n",
       "      <td>2019-06-17 00:00:00</td>\n",
       "      <td>Requires improvement to be good</td>\n",
       "      <td>Requires improvement to be good</td>\n",
       "      <td>Requires improvement to be good</td>\n",
       "      <td>Requires improvement to be good</td>\n",
       "    </tr>\n",
       "    <tr>\n",
       "      <th>151</th>\n",
       "      <td>Ofsted Local Authority Webpage</td>\n",
       "      <td>York</td>\n",
       "      <td>Yorkshire and The Humber</td>\n",
       "      <td>2016-11-14 00:00:00</td>\n",
       "      <td>Good</td>\n",
       "      <td>Good</td>\n",
       "      <td>Requires improvement to be good</td>\n",
       "      <td>Good</td>\n",
       "    </tr>\n",
       "  </tbody>\n",
       "</table>\n",
       "<p>152 rows × 8 columns</p>\n",
       "</div>"
      ],
      "text/plain": [
       "                           Web link          Local authority name  \\\n",
       "0    Ofsted Local Authority Webpage          Barking and Dagenham   \n",
       "1    Ofsted Local Authority Webpage                        Barnet   \n",
       "2    Ofsted Local Authority Webpage                      Barnsley   \n",
       "3    Ofsted Local Authority Webpage  Bath and North East Somerset   \n",
       "4    Ofsted Local Authority Webpage                       Bedford   \n",
       "..                              ...                           ...   \n",
       "147  Ofsted Local Authority Webpage                        Wirral   \n",
       "148  Ofsted Local Authority Webpage                     Wokingham   \n",
       "149  Ofsted Local Authority Webpage                 Wolverhampton   \n",
       "150  Ofsted Local Authority Webpage                Worcestershire   \n",
       "151  Ofsted Local Authority Webpage                          York   \n",
       "\n",
       "                Ofsted region      Inspection date  \\\n",
       "0                      London  2019-02-18 00:00:00   \n",
       "1                      London  2019-05-13 00:00:00   \n",
       "2    Yorkshire and The Humber  2018-10-08 00:00:00   \n",
       "3                  South West  2022-02-28 00:00:00   \n",
       "4             East of England  2021-11-15 00:00:00   \n",
       "..                        ...                  ...   \n",
       "147                North West  2019-06-17 00:00:00   \n",
       "148                South East  2019-06-03 00:00:00   \n",
       "149             West Midlands  2017-01-16 00:00:00   \n",
       "150             West Midlands  2019-06-17 00:00:00   \n",
       "151  Yorkshire and The Humber  2016-11-14 00:00:00   \n",
       "\n",
       "               Overall effectiveness                Impact of leaders  \\\n",
       "0    Requires improvement to be good  Requires improvement to be good   \n",
       "1                               Good                             Good   \n",
       "2                               Good                             Good   \n",
       "3                               Good                             Good   \n",
       "4                               Good                             Good   \n",
       "..                               ...                              ...   \n",
       "147  Requires improvement to be good                             Good   \n",
       "148  Requires improvement to be good  Requires improvement to be good   \n",
       "149                             Good                             Good   \n",
       "150  Requires improvement to be good  Requires improvement to be good   \n",
       "151                             Good                             Good   \n",
       "\n",
       "    Experiences and progress of children who need help and protection  \\\n",
       "0                      Requires improvement to be good                  \n",
       "1                                                 Good                  \n",
       "2                                                 Good                  \n",
       "3                                                 Good                  \n",
       "4                                                 Good                  \n",
       "..                                                 ...                  \n",
       "147                    Requires improvement to be good                  \n",
       "148                    Requires improvement to be good                  \n",
       "149                    Requires improvement to be good                  \n",
       "150                    Requires improvement to be good                  \n",
       "151                    Requires improvement to be good                  \n",
       "\n",
       "    Experiences and progress of children in care and care leavers  \n",
       "0                      Requires improvement to be good             \n",
       "1                                                 Good             \n",
       "2                                                 Good             \n",
       "3                                                 Good             \n",
       "4                                                 Good             \n",
       "..                                                 ...             \n",
       "147                    Requires improvement to be good             \n",
       "148                    Requires improvement to be good             \n",
       "149                                               Good             \n",
       "150                    Requires improvement to be good             \n",
       "151                                               Good             \n",
       "\n",
       "[152 rows x 8 columns]"
      ]
     },
     "execution_count": 16,
     "metadata": {},
     "output_type": "execute_result"
    }
   ],
   "source": [
    "from datasets import Datasets\n",
    "\n",
    "datasets = Datasets()\n",
    "\n",
    "df = datasets.extract_data_for_bar_charts()\n",
    "df"
   ]
  },
  {
   "cell_type": "code",
   "execution_count": 24,
   "metadata": {},
   "outputs": [
    {
     "data": {
      "text/plain": [
       "['Overall effectiveness',\n",
       " 'Impact of leaders',\n",
       " 'Experiences and progress of children who need help and protection',\n",
       " 'Experiences and progress of children in care and care leavers']"
      ]
     },
     "execution_count": 24,
     "metadata": {},
     "output_type": "execute_result"
    }
   ],
   "source": [
    "df.columns[-4:].tolist()"
   ]
  },
  {
   "cell_type": "code",
   "execution_count": 25,
   "metadata": {},
   "outputs": [],
   "source": [
    "from manipulations import BarChartBuilder"
   ]
  },
  {
   "cell_type": "code",
   "execution_count": 26,
   "metadata": {},
   "outputs": [],
   "source": [
    "bcb = BarChartBuilder()"
   ]
  },
  {
   "cell_type": "code",
   "execution_count": null,
   "metadata": {},
   "outputs": [],
   "source": [
    "bcb."
   ]
  }
 ],
 "metadata": {
  "kernelspec": {
   "display_name": "venv",
   "language": "python",
   "name": "python3"
  },
  "language_info": {
   "codemirror_mode": {
    "name": "ipython",
    "version": 3
   },
   "file_extension": ".py",
   "mimetype": "text/x-python",
   "name": "python",
   "nbconvert_exporter": "python",
   "pygments_lexer": "ipython3",
   "version": "3.11.9"
  }
 },
 "nbformat": 4,
 "nbformat_minor": 2
}
